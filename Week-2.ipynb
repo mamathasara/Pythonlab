{
 "cells": [
  {
   "cell_type": "markdown",
   "id": "92ef462e-5f82-4476-a3c0-5363e7e6e732",
   "metadata": {},
   "source": [
    "1.Print the below triangle using for loop\n",
    "5\n",
    "4 4 \n",
    "3 3 3\n",
    "2 2 2 2\n",
    "1 1 1 1 1"
   ]
  },
  {
   "cell_type": "code",
   "execution_count": 2,
   "id": "d5366fe5-7923-491b-99f0-47547dd5d0b9",
   "metadata": {},
   "outputs": [
    {
     "ename": "SyntaxError",
     "evalue": "expected ':' (1374337214.py, line 1)",
     "output_type": "error",
     "traceback": [
      "\u001b[1;36m  Cell \u001b[1;32mIn[2], line 1\u001b[1;36m\u001b[0m\n\u001b[1;33m    for i in range(5,0,-1)\u001b[0m\n\u001b[1;37m                          ^\u001b[0m\n\u001b[1;31mSyntaxError\u001b[0m\u001b[1;31m:\u001b[0m expected ':'\n"
     ]
    }
   ],
   "source": [
    "for i in range(5,0,-1)\n",
    "    print((str(i)+\" \")*(6-i))"
   ]
  },
  {
   "cell_type": "code",
   "execution_count": 4,
   "id": "326fbd69-6a49-4c90-9015-1ce2938da3ce",
   "metadata": {},
   "outputs": [
    {
     "name": "stdout",
     "output_type": "stream",
     "text": [
      "5 \n",
      "4 4 \n",
      "3 3 3 \n",
      "2 2 2 2 \n",
      "1 1 1 1 1 \n"
     ]
    }
   ],
   "source": [
    "for i in range(5,0,-1):\n",
    "    print((str(i)+\" \")*(6-i))\n"
   ]
  },
  {
   "cell_type": "markdown",
   "id": "e96eeca0-29d9-48bd-afc9-9886199cc301",
   "metadata": {},
   "source": [
    "String Multiplication:\n",
    "\n",
    "The expression (str(i) + \" \") * (6 - i):\n",
    "str(i) converts the integer i into a string for printing.\n",
    "+ \" \" adds a space after the number.\n",
    "The expression (6 - i) calculates how many times to print the number i:\n",
    "When i = 5, it prints 1 time: (6 - 5) = 1\n",
    "When i = 4, it prints 2 times: (6 - 4) = 2\n",
    "When i = 3, it prints 3 times: (6 - 3) = 3\n",
    "When i = 2, it prints 4 times: (6 - 2) = 4\n",
    "When i = 1, it prints 5 times: (6 - 1) = 5\n",
    "\n",
    "str(i) converts the integer i into a string so it can be concatenated with a space.\n",
    "\n",
    "# Example 1: Simple string multiplication\n",
    "greeting = \"Hello \"\n",
    "result = greeting * 3\n",
    "print(result)  # Output: Hello Hello Hello \n"
   ]
  },
  {
   "cell_type": "markdown",
   "id": "b7383e10-00b5-425e-b5f8-8a11748dec7f",
   "metadata": {},
   "source": [
    "2.Write a program to check whether the given input is digit or lowercase character or uppercase"
   ]
  },
  {
   "cell_type": "code",
   "execution_count": 8,
   "id": "cf245568-cefd-4438-8bee-eb13ef3ca32d",
   "metadata": {},
   "outputs": [
    {
     "name": "stdin",
     "output_type": "stream",
     "text": [
      "Enter a single character:  m\n"
     ]
    },
    {
     "name": "stdout",
     "output_type": "stream",
     "text": [
      "The input is a lowercase character.\n"
     ]
    }
   ],
   "source": [
    "# Function to check the type of input\n",
    "def check_input_type(char):\n",
    "    if char.isdigit():\n",
    "        return \"The input is a digit.\"\n",
    "    elif char.islower():\n",
    "        return \"The input is a lowercase character.\"\n",
    "    elif char.isupper():\n",
    "        return \"The input is an uppercase character.\"\n",
    "    else:\n",
    "        return \"The input is neither a digit nor an alphabet character.\"\n",
    "\n",
    "# Get input from the user\n",
    "user_input = input(\"Enter a single character: \")\n",
    "\n",
    "# Ensure the input is a single character\n",
    "if len(user_input) == 1:\n",
    "    result = check_input_type(user_input)\n",
    "    print(result)\n",
    "else:\n",
    "    print(\"Please enter exactly one character.\")\n"
   ]
  },
  {
   "cell_type": "markdown",
   "id": "def95749-085c-4140-bc73-cd4f1a6cd7f7",
   "metadata": {},
   "source": [
    "Above program using if-else-if ladder without calling any function"
   ]
  },
  {
   "cell_type": "code",
   "execution_count": 11,
   "id": "bb652d1d-7e23-4cbc-8129-b6ce3a34ef2e",
   "metadata": {},
   "outputs": [
    {
     "name": "stdin",
     "output_type": "stream",
     "text": [
      "Enter a single character:  M\n"
     ]
    },
    {
     "name": "stdout",
     "output_type": "stream",
     "text": [
      "The input is an uppercase character.\n"
     ]
    }
   ],
   "source": [
    "# Get input from the user\n",
    "user_input = input(\"Enter a single character: \")\n",
    "\n",
    "# Ensure the input is a single character\n",
    "if len(user_input) != 1:\n",
    "    print(\"Please enter exactly one character.\")\n",
    "else:\n",
    "    # Check if the character is a digit\n",
    "    if user_input.isdigit():\n",
    "        print(\"The input is a digit.\")\n",
    "    # Check if the character is a lowercase letter\n",
    "    elif user_input.islower():\n",
    "        print(\"The input is a lowercase character.\")\n",
    "    # Check if the character is an uppercase letter\n",
    "    elif user_input.isupper():\n",
    "        print(\"The input is an uppercase character.\")\n",
    "    # If none of the above, it's neither\n",
    "    else:\n",
    "        print(\"The input is neither a digit nor an alphabet character.\")\n"
   ]
  },
  {
   "cell_type": "markdown",
   "id": "2757f945-c85e-465c-924d-21244f4723f9",
   "metadata": {},
   "source": [
    "3.Python program to print the Fibonacci sequence using while loop?"
   ]
  },
  {
   "cell_type": "code",
   "execution_count": 14,
   "id": "a0b60bf7-deb5-4f81-94f6-dae80c8336fb",
   "metadata": {},
   "outputs": [
    {
     "ename": "SyntaxError",
     "evalue": "'(' was never closed (2997880994.py, line 8)",
     "output_type": "error",
     "traceback": [
      "\u001b[1;36m  Cell \u001b[1;32mIn[14], line 8\u001b[1;36m\u001b[0m\n\u001b[1;33m    num=int(input(\"Enter the number upto which you want fibonacci number series: \")\u001b[0m\n\u001b[1;37m           ^\u001b[0m\n\u001b[1;31mSyntaxError\u001b[0m\u001b[1;31m:\u001b[0m '(' was never closed\n"
     ]
    }
   ],
   "source": [
    "def fib(n):\n",
    "   a,b=0,1\n",
    "   c=0\n",
    "   while c<n :\n",
    "     print(a,end=\" \")\n",
    "     a,b=b,a+b\n",
    "     c += 1\n",
    "num=int(input(\"Enter the number upto which you want fibonacci number series: \")\n",
    "fib(num)"
   ]
  },
  {
   "cell_type": "code",
   "execution_count": 16,
   "id": "74cbe818-d41b-4d24-8a74-2dbe6a0448a8",
   "metadata": {},
   "outputs": [
    {
     "name": "stdin",
     "output_type": "stream",
     "text": [
      "Enter the number upto which you want fibonacci number series:  4\n"
     ]
    },
    {
     "name": "stdout",
     "output_type": "stream",
     "text": [
      "0 1 1 2 "
     ]
    }
   ],
   "source": [
    "def fib(n):\n",
    "   a,b=0,1\n",
    "   c=0\n",
    "   while c<n :\n",
    "     print(a,end=\" \")\n",
    "     a,b=b,a+b\n",
    "     c += 1\n",
    "num=int(input(\"Enter the number upto which you want fibonacci number series: \"))\n",
    "fib(num)"
   ]
  },
  {
   "cell_type": "markdown",
   "id": "ab6365ae-f51d-4231-888f-07830ae4c882",
   "metadata": {},
   "source": [
    "4.Python program to print all prime numbers in given interval(use break)"
   ]
  },
  {
   "cell_type": "code",
   "execution_count": 25,
   "id": "deaa6d52-0b03-4f78-b41a-a84afb2b2ec2",
   "metadata": {},
   "outputs": [
    {
     "name": "stdout",
     "output_type": "stream",
     "text": [
      "2 3 5 7 11 13 17 19 "
     ]
    }
   ],
   "source": [
    "for n in range(2,20):\n",
    "    if n>1:\n",
    "        for i in range(2,n):\n",
    "            if n%i==0:\n",
    "                break\n",
    "        else:\n",
    "            print(n,end=\" \")"
   ]
  },
  {
   "cell_type": "markdown",
   "id": "c91f168e-88b1-4f32-9b47-3f853d4d5f14",
   "metadata": {},
   "source": [
    "5.write a program to compute LCM of two nnumbers by taking input from the user?"
   ]
  },
  {
   "cell_type": "code",
   "execution_count": 28,
   "id": "61e6d70e-8acb-4b23-87d7-4affcc7e9feb",
   "metadata": {},
   "outputs": [
    {
     "name": "stdout",
     "output_type": "stream",
     "text": [
      "LCM of numbers is  70\n"
     ]
    }
   ],
   "source": [
    "import math\n",
    "lcm=math.lcm(10,7)\n",
    "print(\"LCM of numbers is \",lcm)"
   ]
  },
  {
   "cell_type": "code",
   "execution_count": null,
   "id": "9b0cc62c-7a30-47bc-b674-38c7ffb978bb",
   "metadata": {},
   "outputs": [],
   "source": []
  }
 ],
 "metadata": {
  "kernelspec": {
   "display_name": "Python 3 (ipykernel)",
   "language": "python",
   "name": "python3"
  },
  "language_info": {
   "codemirror_mode": {
    "name": "ipython",
    "version": 3
   },
   "file_extension": ".py",
   "mimetype": "text/x-python",
   "name": "python",
   "nbconvert_exporter": "python",
   "pygments_lexer": "ipython3",
   "version": "3.12.4"
  }
 },
 "nbformat": 4,
 "nbformat_minor": 5
}
