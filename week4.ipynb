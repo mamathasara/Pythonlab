{
  "metadata": {
    "kernelspec": {
      "name": "python",
      "display_name": "Python (Pyodide)",
      "language": "python"
    },
    "language_info": {
      "codemirror_mode": {
        "name": "python",
        "version": 3
      },
      "file_extension": ".py",
      "mimetype": "text/x-python",
      "name": "python",
      "nbconvert_exporter": "python",
      "pygments_lexer": "ipython3",
      "version": "3.8"
    }
  },
  "nbformat_minor": 4,
  "nbformat": 4,
  "cells": [
    {
      "cell_type": "code",
      "source": "def is_sorted(input_list):\n    for i in range(len(input_list) - 1):\n        if input_list[i] > input_list[i + 1]:\n            return False\n    return True\nlist1 = [1, 2, 3, 4, 5]\nlist2 = [5, 3, 8, 2, 10]\n\nprint(is_sorted(list1))  \nprint(is_sorted(list2))\n",
      "metadata": {
        "trusted": true
      },
      "outputs": [
        {
          "name": "stdout",
          "text": "True\nFalse\n",
          "output_type": "stream"
        }
      ],
      "execution_count": 1
    },
    {
      "cell_type": "code",
      "source": "def as_duplicate(list1):\n    a=len(list1)\n    for i in range(0,a+1):\n        for j in range(i+1,a):\n            if(list1[i]==list1[j]):\n                return True\n    return False\nlist1=[1,2,6,4,5,1]\nc=as_duplicate(list1)\nprint(c)",
      "metadata": {
        "trusted": true
      },
      "outputs": [
        {
          "name": "stdout",
          "text": "True\n",
          "output_type": "stream"
        }
      ],
      "execution_count": 2
    },
    {
      "cell_type": "code",
      "source": "def remove_duplicates(input_list):\n    unique_list = list(set(input_list))\n    return unique_list\noriginal_list = [2, 3, 2, 5, 6, 5, 8, 2, 9]\nnew_list = remove_duplicates(original_list)\nprint(new_list)\n",
      "metadata": {
        "trusted": true
      },
      "outputs": [
        {
          "name": "stdout",
          "text": "[2, 3, 5, 6, 8, 9]\n",
          "output_type": "stream"
        }
      ],
      "execution_count": 3
    },
    {
      "cell_type": "code",
      "source": "original_dict = {'a': 1, 'b': 2, 'c': 3}\ninterchanged_dict = {value: key for key, value in original_dict.items()}\n\nprint(interchanged_dict)\n",
      "metadata": {
        "trusted": true
      },
      "outputs": [
        {
          "name": "stdout",
          "text": "{1: 'a', 2: 'b', 3: 'c'}\n",
          "output_type": "stream"
        }
      ],
      "execution_count": 4
    },
    {
      "cell_type": "code",
      "source": "x=\"apple\"\ny=','.join(x)\nprint(y)\n",
      "metadata": {
        "trusted": true
      },
      "outputs": [
        {
          "name": "stdout",
          "text": "a,p,p,l,e\n",
          "output_type": "stream"
        }
      ],
      "execution_count": 5
    },
    {
      "cell_type": "code",
      "source": "x=\"This is just a test.\"\ny=x.replace(\"is\",\"\")\nprint(y)\n",
      "metadata": {
        "trusted": true
      },
      "outputs": [
        {
          "name": "stdout",
          "text": "Th  just a test.\n",
          "output_type": "stream"
        }
      ],
      "execution_count": 6
    },
    {
      "cell_type": "code",
      "source": "def capitalizing(sentence):\n    # Split the sentence into words\n    words = sentence.split()\n    cap_words = []\n    \n    # Capitalize the first letter of each word\n    for i in words:\n        cap_words.append(i.capitalize())\n    \n    # Join the words back into a sentence\n    cap_sentence = ' '.join(cap_words)\n    \n    # Print the capitalized sentence\n    print(cap_sentence)\n\n# Hardcoded sentence\ninput_sentence = \"hello world, this is a test sentence.\"\n\n# Call the function to capitalize the sentence\ncapitalizing(input_sentence)\n",
      "metadata": {
        "trusted": true
      },
      "outputs": [
        {
          "name": "stdout",
          "text": "Hello World, This Is A Test Sentence.\n",
          "output_type": "stream"
        }
      ],
      "execution_count": 8
    },
    {
      "cell_type": "code",
      "source": "def generate_binary_strings(n, prefix=\"\"):\n    if n == 0:\n        print(prefix)\n    else:\n        generate_binary_strings(n - 1, prefix + \"0\")\n        generate_binary_strings(n - 1, prefix + \"1\")\n\nn_bits = 4\ngenerate_binary_strings(n_bits)\n",
      "metadata": {
        "trusted": true
      },
      "outputs": [
        {
          "name": "stdout",
          "text": "0000\n0001\n0010\n0011\n0100\n0101\n0110\n0111\n1000\n1001\n1010\n1011\n1100\n1101\n1110\n1111\n",
          "output_type": "stream"
        }
      ],
      "execution_count": 9
    },
    {
      "cell_type": "code",
      "source": "set1={1,2,3,4,5}\nset2={3,4,5,6,7}\nunion_result=set1.union(set2)\nunion_intersection=set1.intersection(set2)\nunion_difference=set1.difference(set2)\nsymmetric_difference_result = set1.symmetric_difference(set2)\nprint(\"Union: \",union_result)\nprint(\"Intersection: \",union_intersection)\nprint(\"Difference : \",union_difference)\nprint(\"symmetric difference : \",symmetric_difference_result)\n",
      "metadata": {
        "trusted": true
      },
      "outputs": [
        {
          "name": "stdout",
          "text": "Union:  {1, 2, 3, 4, 5, 6, 7}\nIntersection:  {3, 4, 5}\nDifference :  {1, 2}\nsymmetric difference :  {1, 2, 6, 7}\n",
          "output_type": "stream"
        }
      ],
      "execution_count": 10
    },
    {
      "cell_type": "code",
      "source": "def palindrome(x):\n    # Loop over the string up to the middle\n    for i in range(0, len(x) // 2):\n        if x[i] != x[len(x) - i - 1]:\n            return False  # If a mismatch is found, return False\n    return True  # If all pairs match, return True\n\n# Hardcoded string for testing\nInput = \"amma\"\n\n# Check if the string is a palindrome\nc = palindrome(Input)\n\n# Print the result\nprint(c)\n",
      "metadata": {
        "trusted": true
      },
      "outputs": [
        {
          "name": "stdout",
          "text": "True\n",
          "output_type": "stream"
        }
      ],
      "execution_count": 12
    },
    {
      "cell_type": "code",
      "source": "",
      "metadata": {
        "trusted": true
      },
      "outputs": [],
      "execution_count": null
    }
  ]
}