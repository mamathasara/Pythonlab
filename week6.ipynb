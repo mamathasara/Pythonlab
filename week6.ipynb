{
  "metadata": {
    "kernelspec": {
      "name": "python",
      "display_name": "Python (Pyodide)",
      "language": "python"
    },
    "language_info": {
      "codemirror_mode": {
        "name": "python",
        "version": 3
      },
      "file_extension": ".py",
      "mimetype": "text/x-python",
      "name": "python",
      "nbconvert_exporter": "python",
      "pygments_lexer": "ipython3",
      "version": "3.8"
    }
  },
  "nbformat_minor": 4,
  "nbformat": 4,
  "cells": [
    {
      "cell_type": "code",
      "source": "try:\n    # Hardcoded numbers\n    num1 = 10  # You can change this to any number\n    num2 = 2   # You can change this to any number\n\n    result = num1 / num2\n    print(\"Result:\", result)\n\nexcept ZeroDivisionError:\n    print(\"Division by zero is not accepted\")\n\nexcept ValueError:\n    print(\"Enter only integers\")\n\nexcept Exception as e:\n    print(\"An error occurred:\", str(e))\n",
      "metadata": {
        "trusted": true
      },
      "outputs": [
        {
          "name": "stdout",
          "text": "Result: 5.0\n",
          "output_type": "stream"
        }
      ],
      "execution_count": 3
    },
    {
      "cell_type": "code",
      "source": "def voter_age(age):\n    try:\n        # Convert the age to an integer\n        num = int(age)\n        if num > 18:\n            print(\"Valid age\")\n        elif num < 18:\n            print(\"Not a valid age\")\n        else:\n            print(\"Exact age limit for voting\")\n    except exception as e:\n        print(\"Enter only integers:\", str(e))\n\n# Hardcoded age value\nage = 20  # You can change this value to test with different ages\n\n# Call the function with the hardcoded age\nvoter_age(age)\n",
      "metadata": {
        "trusted": true
      },
      "outputs": [
        {
          "name": "stdout",
          "text": "Valid age\n",
          "output_type": "stream"
        }
      ],
      "execution_count": 6
    },
    {
      "cell_type": "code",
      "source": "def students_mark(marks):\n    try:\n        num=int(marks)\n        if(num>0):\n            print(\"valid number\")\n        elif(num<0 or num==0):\n            print(\"not valid\")\n    except Exception as e:\n        print(\"enter only integers :\",str(e))\nnum=95\nstudents_mark(num)\n",
      "metadata": {
        "trusted": true
      },
      "outputs": [
        {
          "name": "stdout",
          "text": "valid number\n",
          "output_type": "stream"
        }
      ],
      "execution_count": 7
    },
    {
      "cell_type": "code",
      "source": "try:\n    num1=5\n    num2=10\n    result=num1/num2\n    print(\"result : \",result)\nexcept Exception as e:\n    print(\"error occured :\",str(e))\nelse:\n    print(\"division successful\")\nfinally:\n    print(\"program completed successfully\")\n",
      "metadata": {
        "trusted": true
      },
      "outputs": [
        {
          "name": "stdout",
          "text": "result :  0.5\ndivision successful\nprogram completed successfully\n",
          "output_type": "stream"
        }
      ],
      "execution_count": 9
    },
    {
      "cell_type": "code",
      "source": "",
      "metadata": {
        "trusted": true
      },
      "outputs": [],
      "execution_count": null
    }
  ]
}