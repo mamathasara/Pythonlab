{
  "metadata": {
    "kernelspec": {
      "name": "python",
      "display_name": "Python (Pyodide)",
      "language": "python"
    },
    "language_info": {
      "codemirror_mode": {
        "name": "python",
        "version": 3
      },
      "file_extension": ".py",
      "mimetype": "text/x-python",
      "name": "python",
      "nbconvert_exporter": "python",
      "pygments_lexer": "ipython3",
      "version": "3.8"
    }
  },
  "nbformat_minor": 4,
  "nbformat": 4,
  "cells": [
    {
      "cell_type": "code",
      "source": "from scipy import special\na = special.exp10(3)\nprint(a)\nb = special.exp2(3)\nprint(b)\nc = special.sindg(90)\nprint(c)\nd = special.cosdg(45)\nprint(d)",
      "metadata": {
        "trusted": true
      },
      "outputs": [
        {
          "name": "stdout",
          "text": "1000.0\n8.0\n1.0\n0.7071067811865475\n",
          "output_type": "stream"
        }
      ],
      "execution_count": 2
    }
  ]
}