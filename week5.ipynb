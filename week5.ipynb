{
  "metadata": {
    "kernelspec": {
      "name": "python",
      "display_name": "Python (Pyodide)",
      "language": "python"
    },
    "language_info": {
      "codemirror_mode": {
        "name": "python",
        "version": 3
      },
      "file_extension": ".py",
      "mimetype": "text/x-python",
      "name": "python",
      "nbconvert_exporter": "python",
      "pygments_lexer": "ipython3",
      "version": "3.8"
    }
  },
  "nbformat_minor": 4,
  "nbformat": 4,
  "cells": [
    {
      "cell_type": "code",
      "source": "matrix = [\n    [1, 2, 3],\n    [4, 5, 6],\n    [7, 8, 9]\n]\nfor row in matrix:\n    print(row)\n",
      "metadata": {
        "trusted": true
      },
      "outputs": [
        {
          "name": "stdout",
          "text": "[1, 2, 3]\n[4, 5, 6]\n[7, 8, 9]\n",
          "output_type": "stream"
        }
      ],
      "execution_count": 1
    },
    {
      "cell_type": "code",
      "source": "def add_matrices(matrix1, matrix2):\n    rows = len(matrix1)\n    columns = len(matrix1[0])\n    \n    result = []\n    for i in range(rows):\n        row = []\n        for j in range(columns):\n            row.append(matrix1[i][j] + matrix2[i][j])\n        result.append(row)\n    \n    return result\n    # Define two square matrices\nmatrix1 = [\n    [1, 2, 3],\n    [4, 5, 6],\n    [7, 8, 9]\n]\n\nmatrix2 = [\n    [9, 8, 7],\n    [6, 5, 4],\n    [3, 2, 1]\n]\n\n# Perform matrix addition\nresult_matrix = add_matrices(matrix1, matrix2)\n\n# Print the result\nfor row in result_matrix:\n    print(row)\n\n",
      "metadata": {
        "trusted": true
      },
      "outputs": [
        {
          "name": "stdout",
          "text": "[10, 10, 10]\n[10, 10, 10]\n[10, 10, 10]\n",
          "output_type": "stream"
        }
      ],
      "execution_count": 3
    },
    {
      "cell_type": "code",
      "source": "# Matrix Multiplication Function\ndef multiply_matrices(matrix1, matrix2):\n    rows1 = len(matrix1)\n    columns1 = len(matrix1[0])\n    rows2 = len(matrix2)\n    columns2 = len(matrix2[0])\n    \n    # Check if matrix dimensions are compatible for multiplication\n    if columns1 != rows2:\n        raise ValueError(\"Matrices cannot be multiplied due to incompatible dimensions.\")\n    \n    result = []\n    # Perform matrix multiplication\n    for i in range(rows1):\n        row = []\n        for j in range(columns2):\n            value = 0\n            for k in range(columns1):\n                value += matrix1[i][k] * matrix2[k][j]\n            row.append(value)\n        result.append(row)\n    \n    return result\n\n# Hardcoded matrices for multiplication\nmatrix1 = [\n    [1, 2, 3],\n    [4, 5, 6],\n    [7, 8, 9]\n]\n\nmatrix2 = [\n    [9, 8, 7],\n    [6, 5, 4],\n    [3, 2, 1]\n]\n\n# Perform Matrix Multiplication\nresult_matrix = multiply_matrices(matrix1, matrix2)\n\n# Print the result of matrix multiplication\nprint(\"Matrix Multiplication Result:\")\nfor row in result_matrix:\n    print(row)\n\n\n# Simple Calculator Program\ndef add(x, y):\n    return x + y\n\ndef subtract(x, y):\n    return x - y\n\ndef multiply(x, y):\n    return x * y\n\ndef divide(x, y):\n    if y == 0:\n        return \"Cannot divide by zero\"\n    return x / y\n\n# Hardcoded numbers for the calculator\nnum1 = 10\nnum2 = 5\noperation_choice = 1  # 1 for addition, 2 for subtraction, 3 for multiplication, 4 for division\n\n# Simple Calculator operation based on the choice\nif operation_choice == 1:\n    print(f\"{num1} + {num2} = {add(num1, num2)}\")\nelif operation_choice == 2:\n    print(f\"{num1} - {num2} = {subtract(num1, num2)}\")\nelif operation_choice == 3:\n    print(f\"{num1} * {num2} = {multiply(num1, num2)}\")\nelif operation_choice == 4:\n    print(f\"{num1} / {num2} = {divide(num1, num2)}\")\nelse:\n    print(\"Invalid operation choice\")\n",
      "metadata": {
        "trusted": true
      },
      "outputs": [
        {
          "name": "stdout",
          "text": "Matrix Multiplication Result:\n[30, 24, 18]\n[84, 69, 54]\n[138, 114, 90]\n10 + 5 = 15\n",
          "output_type": "stream"
        }
      ],
      "execution_count": 6
    },
    {
      "cell_type": "code",
      "source": "def fact(a):\n    # Base case: factorial of 0 or 1 is 1\n    if a == 0 or a == 1:\n        return 1\n    else:\n        return a * fact(a - 1)\n\n# Hardcoded number for factorial calculation (e.g., 6)\nnum = 6  # You can change this value to any number you want to calculate the factorial of\n\n# Calculate factorial\nfactnum = fact(num)\n\n# Print the factorial result\nprint(f\"The factorial of {num} is {factnum}\")\n",
      "metadata": {
        "trusted": true
      },
      "outputs": [
        {
          "name": "stdout",
          "text": "The factorial of 6 is 720\n",
          "output_type": "stream"
        }
      ],
      "execution_count": 8
    },
    {
      "cell_type": "code",
      "source": "def cumulative_product(list1):\n    a=len(list1)\n    for i in range(0,a):\n        if list1[i]==0 or list1[i]==1 :\n            a=1\n        else:\n            a= a*list1[i]\n    return a\nlist1=[1,2,3,4,5]\nc=cumulative_product(list1)\nprint(c)",
      "metadata": {
        "trusted": true
      },
      "outputs": [
        {
          "name": "stdout",
          "text": "120\n",
          "output_type": "stream"
        }
      ],
      "execution_count": 9
    },
    {
      "cell_type": "code",
      "source": "def reverse_list(list1):\n    list2=[]\n    for i in range(len(list1) -1,-1,-1):\n        list2.append(list1[i])\n    return list2\nlist1=[1,2,3,4,5]\nlist2=reverse_list(list1)\nprint(list2)\n",
      "metadata": {
        "trusted": true
      },
      "outputs": [],
      "execution_count": null
    }
  ]
}