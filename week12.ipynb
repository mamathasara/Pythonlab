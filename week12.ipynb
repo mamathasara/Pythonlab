{
  "metadata": {
    "kernelspec": {
      "name": "python",
      "display_name": "Python (Pyodide)",
      "language": "python"
    },
    "language_info": {
      "codemirror_mode": {
        "name": "python",
        "version": 3
      },
      "file_extension": ".py",
      "mimetype": "text/x-python",
      "name": "python",
      "nbconvert_exporter": "python",
      "pygments_lexer": "ipython3",
      "version": "3.8"
    }
  },
  "nbformat_minor": 4,
  "nbformat": 4,
  "cells": [
    {
      "cell_type": "code",
      "source": "def AND(a,b):\n    if a==1 and b==1:\n        return True\n    else:\n        return False\nprint(AND(1,1),\"=AND(1,1)\")\nprint(AND(0,0),\"=AND(0,0)\")\nprint(AND(1,0),\"=AND(1,0)\")\nprint(AND(0,1),\"=AND(0,1)\")",
      "metadata": {
        "trusted": true
      },
      "outputs": [
        {
          "name": "stdout",
          "text": "True =AND(1,1)\nFalse =AND(0,0)\nFalse =AND(1,0)\nFalse =AND(0,1)\n",
          "output_type": "stream"
        }
      ],
      "execution_count": 1
    },
    {
      "cell_type": "code",
      "source": "def OR(a,b):\n    if a==1 or b==1:\n        return True\n    else:\n        return False\nprint(OR(1,1),\"=OR(1,1)\")\nprint(OR(0,0),\"=OR(0,0)\")\nprint(OR(1,0),\"=OR(1,0)\")\nprint(OR(0,1),\"=OR(0,1)\")",
      "metadata": {
        "trusted": true
      },
      "outputs": [
        {
          "name": "stdout",
          "text": "True =OR(1,1)\nFalse =OR(0,0)\nTrue =OR(1,0)\nTrue =OR(0,1)\n",
          "output_type": "stream"
        }
      ],
      "execution_count": 2
    },
    {
      "cell_type": "code",
      "source": "def NOT(a):\n    if a==1 :\n        return False\n    else:\n        return True\nprint(NOT(1),\"=NOT(1)\")\nprint(NOT(0),\"=NOT(0)\")",
      "metadata": {
        "trusted": true
      },
      "outputs": [
        {
          "name": "stdout",
          "text": "False =NOT(1)\nTrue =NOT(0)\n",
          "output_type": "stream"
        }
      ],
      "execution_count": 3
    },
    {
      "cell_type": "code",
      "source": "def XOR_gate(a, b):\n    if a != b:\n        return 1\n    else:\n        return 0\nprint(\"XOR Gate:\", XOR_gate(5,5))",
      "metadata": {
        "trusted": true
      },
      "outputs": [
        {
          "name": "stdout",
          "text": "XOR Gate: 0\n",
          "output_type": "stream"
        }
      ],
      "execution_count": 4
    },
    {
      "cell_type": "code",
      "source": "def XOR(a,b):\n    if a!=b:\n        return 1\n    else:\n        return 0\ndef AND(a,b):\n    if a==b:\n        return 1\n    else:\n        return 0\ndef half_adder(a,b):\n    sum=XOR(a,b)\n    carry=AND(a,b)\n    return sum,carry\nsum,carry=half_adder(0,0)\nprint(sum,carry)\nsum,carry=half_adder(0,1)\nprint(sum,carry)\nsum,carry=half_adder(1,0)\nprint(sum,carry)\nsum,carry=half_adder(1,1)\nprint(sum,carry)",
      "metadata": {
        "trusted": true
      },
      "outputs": [
        {
          "name": "stdout",
          "text": "0 1\n1 0\n1 0\n0 1\n",
          "output_type": "stream"
        }
      ],
      "execution_count": 5
    },
    {
      "cell_type": "code",
      "source": "def half_adder(a,b):\n    sum=a^b\n    carry = a and b\n    return carry,sum\ndef full_adder(carry_in,a,b):\n    carry1,sum1=half_adder(carry_in,a)\n    carry2,sum=half_adder(sum1,b)\n    carry=carry1 or carry2\n    return carry,sum\ncarry,sum=full_adder(0,0,0)\nprint(sum,carry)\ncarry,sum=full_adder(0,0,1)\nprint(sum,carry)\ncarry,sum=full_adder(0,1,0)\nprint(sum,carry)\ncarry,sum=full_adder(0,1,1)\nprint(sum,carry)\ncarry,sum=full_adder(1,0,0)\nprint(sum,carry)\ncarry,sum=full_adder(1,0,1)\nprint(sum,carry)\ncarry,sum=full_adder(1,1,0)\nprint(sum,carry)\ncarry,sum=full_adder(1,1,1)\nprint(sum,carry)",
      "metadata": {
        "trusted": true
      },
      "outputs": [
        {
          "name": "stdout",
          "text": "0 0\n1 0\n1 0\n0 1\n1 0\n0 1\n0 1\n1 1\n",
          "output_type": "stream"
        }
      ],
      "execution_count": 7
    },
    {
      "cell_type": "code",
      "source": "def half_adder(a, b):\n    # ^ is logical xor in python\n    sum = a ^ b\n    carry = a and b\n    return carry,sum\n\n# A binary full adder\n# The full adder can add 3 bits (can handle an incoming carry)\n# Also returns a sum and carry\n#\ndef full_adder(carry_in, a, b):\n    carry1,sum1 = half_adder(carry_in,a)\n    carry2,sum = half_adder(sum1,b)\n    carry = carry1 or carry2\n    return carry,sum\n\n# This method virtually chains together binary full adders in order\n# to add binary numbers of arbitrary size.\n#\n# a and b are expected to be strings representing binary integers.\n# \n#\ndef binary_adder(a,b):\n    an = len(a)\n    bn = len(b)\n\n    # Convert strings to list of bits -- very functional syntax here\n    al = list(int(x,2) for x in list(a))\n    bl = list(int(x,2) for x in list(b))\n\n    # Pad smaller list with 0's\n    dif = an - bn\n    # more digits in a than b\n    if dif > 0:\n        for i in range(dif):\n            bl.insert(0,0)\n    else:\n        for i in range(abs(dif)):\n            al.insert(0,0)\n\n    print(al)\n    print(bl)\n            \n    result = []\n    carry = 0\n    # Iterate through list right to left, calling full_adder each time and\n    # inserting the sum each time\n    for i in range(len(al)-1,-1,-1):\n        carry,sum = full_adder(carry,al[i],bl[i])\n        result.insert(0,sum)\n        print (result)\n    result.insert(0,carry)\n\n    return ''.join(str(x) for x in result)\n\ndef test_binary_adder(a,b):\n    result = binary_adder(a,b)\n    print(result)\n    if (int(a,2) + int(b,2)) == int(result,2):\n        print(\"Woo hoo! It works\")\n    else:\n        print(\"FAIL!!\")\n    print(str(int(a,2)) + \" + \" + str(int(b,2)) + \" = \" + str(int(result,2)))\ntest_binary_adder('11111','11111')\n",
      "metadata": {
        "trusted": true
      },
      "outputs": [
        {
          "name": "stdout",
          "text": "[1, 1, 1, 1, 1]\n[1, 1, 1, 1, 1]\n[0]\n[1, 0]\n[1, 1, 0]\n[1, 1, 1, 0]\n[1, 1, 1, 1, 0]\n111110\nWoo hoo! It works\n31 + 31 = 62\n",
          "output_type": "stream"
        }
      ],
      "execution_count": 8
    },
    {
      "cell_type": "code",
      "source": "",
      "metadata": {
        "trusted": true
      },
      "outputs": [],
      "execution_count": null
    },
    {
      "cell_type": "code",
      "source": "",
      "metadata": {
        "trusted": true
      },
      "outputs": [],
      "execution_count": null
    }
  ]
}