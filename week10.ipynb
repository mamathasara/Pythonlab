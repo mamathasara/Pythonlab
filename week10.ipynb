{
  "metadata": {
    "kernelspec": {
      "name": "python",
      "display_name": "Python (Pyodide)",
      "language": "python"
    },
    "language_info": {
      "codemirror_mode": {
        "name": "python",
        "version": 3
      },
      "file_extension": ".py",
      "mimetype": "text/x-python",
      "name": "python",
      "nbconvert_exporter": "python",
      "pygments_lexer": "ipython3",
      "version": "3.8"
    }
  },
  "nbformat_minor": 4,
  "nbformat": 4,
  "cells": [
    {
      "cell_type": "code",
      "source": "import pandas as p\na = [1, 2, 3]\ns = p.Series(a) \nprint(s)",
      "metadata": {
        "trusted": true
      },
      "outputs": [
        {
          "name": "stdout",
          "text": "0    1\n1    2\n2    3\ndtype: int64\n",
          "output_type": "stream"
        }
      ],
      "execution_count": 5
    },
    {
      "cell_type": "code",
      "source": "from scipy import special\na = special.exp10(3)\nprint(a)\nb = special.exp2(3)\nprint(b)\nc = special.sindg(90)\nprint(c)\nd = special.cosdg(45)\nprint(d)",
      "metadata": {
        "trusted": true
      },
      "outputs": [
        {
          "name": "stdout",
          "text": "1000.0\n8.0\n1.0\n0.7071067811865475\n",
          "output_type": "stream"
        }
      ],
      "execution_count": 10
    },
    {
      "cell_type": "code",
      "source": "import pandas as pd \na=[1,2,3] \ns=pd.Series(a) \nprint(s[0])",
      "metadata": {
        "trusted": true
      },
      "outputs": [
        {
          "name": "stdout",
          "text": "1\n",
          "output_type": "stream"
        }
      ],
      "execution_count": 9
    },
    {
      "cell_type": "code",
      "source": "import matplotlib.pyplot as plt\nimport numpy as np\nxpoints = np.array([0, 6])\nypoints = np.array([0, 250])\nplt.plot(xpoints, ypoints)\nplt.show()",
      "metadata": {
        "trusted": true
      },
      "outputs": [
        {
          "output_type": "display_data",
          "data": {
            "text/plain": "<Figure size 640x480 with 1 Axes>",
            "image/png": "[encoded data removed]"
          },
          "metadata": {}
        }
      ],
      "execution_count": 10
    },
    {
      "cell_type": "code",
      "source": "import pandas as pd \na={\"Fruits\":[\"apple\",\"mango\",\"kiwi\"], \"Qty.\":[1,2,3], \"color\":[\"red\",\"Yellow\",\"Rust\"] } \ndf=pd.DataFrame(a) \nprint(df)",
      "metadata": {
        "trusted": true
      },
      "outputs": [
        {
          "name": "stdout",
          "text": "  Fruits  Qty.   color\n0  apple     1     red\n1  mango     2  Yellow\n2   kiwi     3    Rust\n",
          "output_type": "stream"
        }
      ],
      "execution_count": 11
    },
    {
      "cell_type": "code",
      "source": "import pandas as pd\na={\n\"Fruits\":[\"apple\",\"mango\",\"kiwi\"],\n\"Qty\":[1,2,3]\n}\ndf=pd.DataFrame(a,index=[\"x\",\"y\",\"z\"])\nprint(df)",
      "metadata": {
        "trusted": true
      },
      "outputs": [
        {
          "name": "stdout",
          "text": "  Fruits  Qty\nx  apple    1\ny  mango    2\nz   kiwi    3\n",
          "output_type": "stream"
        }
      ],
      "execution_count": 12
    },
    {
      "cell_type": "code",
      "source": "import pandas as pd\na={\n\"Fruits\":[\"apple\",\"mango\",\"kiwi\"],\n\"Qty\":[1,2,3]\n}\ndf=pd.DataFrame(a,index=[\"x\",\"y\",\"z\"])\nprint(df.loc[\"x\"])",
      "metadata": {
        "trusted": true
      },
      "outputs": [
        {
          "name": "stdout",
          "text": "Fruits    apple\nQty           1\nName: x, dtype: object\n",
          "output_type": "stream"
        }
      ],
      "execution_count": 13
    }
  ]
}