{
 "cells": [
  {
   "cell_type": "markdown",
   "id": "317e4ebe-7974-4484-9172-4be161e12300",
   "metadata": {},
   "source": [
    "#write a prograam to purposefully raise indentation error and correct?"
   ]
  },
  {
   "cell_type": "code",
   "execution_count": 2,
   "id": "7a52637f-0ad6-4edb-bb70-5bd6e1424cbf",
   "metadata": {},
   "outputs": [
    {
     "ename": "IndentationError",
     "evalue": "expected an indented block after function definition on line 1 (1762441497.py, line 2)",
     "output_type": "error",
     "traceback": [
      "\u001b[1;36m  Cell \u001b[1;32mIn[2], line 2\u001b[1;36m\u001b[0m\n\u001b[1;33m    print(f\"Hello, {name}!\")  # This line will raise an IndentationError\u001b[0m\n\u001b[1;37m    ^\u001b[0m\n\u001b[1;31mIndentationError\u001b[0m\u001b[1;31m:\u001b[0m expected an indented block after function definition on line 1\n"
     ]
    }
   ],
   "source": [
    "def greet(name):\n",
    "print(f\"Hello, {name}!\")  # This line will raise an IndentationError\n",
    "\n",
    "greet(\"Alice\")\n"
   ]
  },
  {
   "cell_type": "code",
   "execution_count": 6,
   "id": "a7dcd784-f2f1-4b6b-a8c1-d8bef95aff2e",
   "metadata": {},
   "outputs": [
    {
     "name": "stdout",
     "output_type": "stream",
     "text": [
      "Hello, Mamatha!\n"
     ]
    }
   ],
   "source": [
    "def greet(name):\n",
    "    print(f\"Hello, {name}!\")  # Properly indented\n",
    "\n",
    "greet(\"Mamatha\")\n"
   ]
  },
  {
   "cell_type": "markdown",
   "id": "87f42dd1-3b39-4a60-9577-545e0f3047fb",
   "metadata": {},
   "source": [
    "#write a program to caluclate compound interest when principal,rate,and number of periods "
   ]
  },
  {
   "cell_type": "code",
   "execution_count": 9,
   "id": "8916ceeb-4f6e-4bb5-94d2-f141003c5aff",
   "metadata": {},
   "outputs": [
    {
     "name": "stdin",
     "output_type": "stream",
     "text": [
      "Enter the principal amount:  10000\n",
      "Enter the annual interest rate (in %):  1\n",
      "Enter the number of periods (years):  2\n"
     ]
    },
    {
     "name": "stdout",
     "output_type": "stream",
     "text": [
      "The compound interest is: 201.00\n"
     ]
    }
   ],
   "source": [
    "def calculate_compound_interest(principal, rate, periods):\n",
    "    # Calculate compound interest\n",
    "    amount = principal * (1 + rate / 100) ** periods\n",
    "    compound_interest = amount - principal\n",
    "    return compound_interest\n",
    "\n",
    "# Input from the user\n",
    "try:\n",
    "    principal = float(input(\"Enter the principal amount: \"))\n",
    "    rate = float(input(\"Enter the annual interest rate (in %): \"))\n",
    "    periods = int(input(\"Enter the number of periods (years): \"))\n",
    "\n",
    "    if principal < 0 or rate < 0 or periods < 0:\n",
    "        raise ValueError(\"Please enter positive values.\")\n",
    "\n",
    "    interest = calculate_compound_interest(principal, rate, periods)\n",
    "    print(f\"The compound interest is: {interest:.2f}\")\n",
    "\n",
    "except ValueError as e:\n",
    "    print(f\"Invalid input: {e}\")\n"
   ]
  },
  {
   "cell_type": "markdown",
   "id": "7f5af603-dda9-429f-805e-6ceec8b38e7f",
   "metadata": {},
   "source": [
    "*****\n",
    "*****\n",
    "Structure of try and except\n",
    "Try Block:\n",
    "\n",
    "Code that might throw an error is placed inside the try block.\n",
    "If an error occurs, Python immediately stops executing the code in the try block and jumps to the except block.\n",
    "Except Block:\n",
    "\n",
    "This block is where you define what to do if an error occurs. You can specify the type of error you're looking to catch (like ValueError, TypeError, etc.).\n",
    "If an error of that type occurs in the try block, the code in the except block will run."
   ]
  },
  {
   "cell_type": "markdown",
   "id": "455378b4-3cbb-45aa-bd52-2201ae53e305",
   "metadata": {},
   "source": [
    "#Given coordinates (x1 , y1) and (x2 , y2) , Find the distance between them?"
   ]
  },
  {
   "cell_type": "code",
   "execution_count": 13,
   "id": "5a875d67-6d62-46ad-a852-5357fbf05830",
   "metadata": {},
   "outputs": [
    {
     "name": "stdin",
     "output_type": "stream",
     "text": [
      "Enter the x-coordinate of the first point:  2\n",
      "Enter the y-coordinate of the first point:  3\n",
      "Enter the x-coordinate of the second point:  4\n",
      "Enter the y-coordinate of the second point:  5\n"
     ]
    },
    {
     "name": "stdout",
     "output_type": "stream",
     "text": [
      "The distance between the points (2.0, 3.0) and (4.0, 5.0) is: 2.83\n"
     ]
    }
   ],
   "source": [
    "import math\n",
    "\n",
    "def calculate_distance(x1, y1, x2, y2):\n",
    "    distance = math.sqrt((x2 - x1) ** 2 + (y2 - y1) ** 2)\n",
    "    return distance\n",
    "\n",
    "# Input from the user\n",
    "x1 = float(input(\"Enter the x-coordinate of the first point: \"))\n",
    "y1 = float(input(\"Enter the y-coordinate of the first point: \"))\n",
    "x2 = float(input(\"Enter the x-coordinate of the second point: \"))\n",
    "y2 = float(input(\"Enter the y-coordinate of the second point: \"))\n",
    "\n",
    "# Calculate the distance\n",
    "distance = calculate_distance(x1, y1, x2, y2)\n",
    "\n",
    "# Output the result\n",
    "print(f\"The distance between the points ({x1}, {y1}) and ({x2}, {y2}) is: {distance:.2f}\")"
   ]
  },
  {
   "cell_type": "markdown",
   "id": "297462f5-116f-40ba-9ab2-b5d89e81ae12",
   "metadata": {},
   "source": [
    "*****\n",
    "f-string:\n",
    "\n",
    "The f before the opening quotation mark indicates that this is an f-string (formatted string literal). F-strings allow you to embed expressions inside string literals, making it easy to include variables in a string.\n",
    "Variable Embedding:\n",
    "\n",
    "Inside the curly braces {}, you can directly insert variable names or expressions. In this case, {x1}, {y1}, {x2}, {y2}, and {distance} are used to include the values of these variables in the output string.\n",
    "Formatting with :.2f:\n",
    "\n",
    "The :.2f part specifies how to format the distance value:\n",
    ": indicates the start of the formatting specification.\n",
    ".2f means to format the number as a floating-point number with 2 decimal places."
   ]
  },
  {
   "cell_type": "markdown",
   "id": "23d3e932-59a3-41b1-94f3-dd81b5b00f3f",
   "metadata": {},
   "source": [
    "#Read name , address , email and phone number of a person through  keyboard and print the details?"
   ]
  },
  {
   "cell_type": "code",
   "execution_count": 17,
   "id": "9515fd84-9cc7-4694-8f75-018889577558",
   "metadata": {},
   "outputs": [
    {
     "name": "stdin",
     "output_type": "stream",
     "text": [
      "Enter your name:  Sara Mamatha\n",
      "Enter your address:  Alwal\n",
      "Enter your email:  @gmail.com\n",
      "Enter your phone number:  9034987866\n"
     ]
    },
    {
     "name": "stdout",
     "output_type": "stream",
     "text": [
      "\n",
      "--- Personal Details ---\n",
      "Name: Sara Mamatha\n",
      "Address: Alwal\n",
      "Email: @gmail.com\n",
      "Phone Number: 9034987866\n"
     ]
    }
   ],
   "source": [
    "# Read user input\n",
    "name = input(\"Enter your name: \")\n",
    "address = input(\"Enter your address: \")\n",
    "email = input(\"Enter your email: \")\n",
    "phone = input(\"Enter your phone number: \")\n",
    "\n",
    "# Print the details\n",
    "print(\"\\n--- Personal Details ---\")\n",
    "print(f\"Name: {name}\")\n",
    "print(f\"Address: {address}\")\n",
    "print(f\"Email: {email}\")\n",
    "print(f\"Phone Number: {phone}\")"
   ]
  },
  {
   "cell_type": "code",
   "execution_count": null,
   "id": "ccf6547c-699a-47e8-925d-107896ccbc8a",
   "metadata": {},
   "outputs": [],
   "source": []
  }
 ],
 "metadata": {
  "kernelspec": {
   "display_name": "Python 3 (ipykernel)",
   "language": "python",
   "name": "python3"
  },
  "language_info": {
   "codemirror_mode": {
    "name": "ipython",
    "version": 3
   },
   "file_extension": ".py",
   "mimetype": "text/x-python",
   "name": "python",
   "nbconvert_exporter": "python",
   "pygments_lexer": "ipython3",
   "version": "3.12.4"
  }
 },
 "nbformat": 4,
 "nbformat_minor": 5
}
