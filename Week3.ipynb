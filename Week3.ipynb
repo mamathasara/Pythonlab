{
  "metadata": {
    "kernelspec": {
      "name": "python",
      "display_name": "Python (Pyodide)",
      "language": "python"
    },
    "language_info": {
      "codemirror_mode": {
        "name": "python",
        "version": 3
      },
      "file_extension": ".py",
      "mimetype": "text/x-python",
      "name": "python",
      "nbconvert_exporter": "python",
      "pygments_lexer": "ipython3",
      "version": "3.8"
    }
  },
  "nbformat_minor": 4,
  "nbformat": 4,
  "cells": [
    {
      "cell_type": "code",
      "source": "#\ti) Write a program to convert a list and tuple into arrays.\n#Program:\nfrom array import array\nlist=[1,2,3]\nlist_array=array(\"i\",list)\nprint(\"list_array:\",list_array)\ntuple=(4,9,0)\ntuple_array=array(\"i\",tuple)\nprint(\"tuple_array:\",tuple_array)\n",
      "metadata": {
        "trusted": true
      },
      "outputs": [
        {
          "name": "stdout",
          "text": "list_array: array('i', [1, 2, 3])\ntuple_array: array('i', [4, 9, 0])\n",
          "output_type": "stream"
        }
      ],
      "execution_count": 2
    },
    {
      "cell_type": "code",
      "source": "#ii) Write a program to find common values between two arrays.\n#Program:\nfrom array import *\narray1=array('i',[7,8,9,8])\narray2=array('i',[23,33,11,8])\ncommon_values=[]\nfor i in array1:\n    for j in array2:\n        if i==j:\n            common_values.append(i)\ncommon_values=set(common_values)\nprint(common_values)\n",
      "metadata": {
        "trusted": true
      },
      "outputs": [
        {
          "name": "stdout",
          "text": "{8}\n",
          "output_type": "stream"
        }
      ],
      "execution_count": 1
    },
    {
      "cell_type": "code",
      "source": "#2. Write a function called gcd that takes parameters a and b and returns their greatest common divisor.\n#Program:\ndef gcd(a, b):\n    while b:\n        a, b = b, a % b\n    return a\nnum1 = 48\nnum2 = 18\nresult = gcd(num1, num2)\nprint(\"GCD of\", num1, \"and\", num2, \"is:\", result)\n",
      "metadata": {
        "trusted": true
      },
      "outputs": [
        {
          "name": "stdout",
          "text": "GCD of 48 and 18 is: 6\n",
          "output_type": "stream"
        }
      ],
      "execution_count": 2
    },
    {
      "cell_type": "code",
      "source": "def palindrome(string):\n    len_string = len(string)\n    # Iterate from the start of the string to the middle\n    for i in range(0, len_string // 2):\n        # Compare characters from both ends\n        if string[i] != string[len_string - 1 - i]:\n            return False  # Return False if a mismatch is found\n    return True  # Return True if no mismatches were found\n\n# Test with a predefined string (you can change the value of 'a' for testing)\na = \"madam\"  # Try replacing with \"hello\" or other test strings\nc = palindrome(a)  # Check if the input is a palindrome\nprint(c)  # Print the result (True or False)\n",
      "metadata": {
        "trusted": true
      },
      "outputs": [
        {
          "name": "stdout",
          "text": "True\n",
          "output_type": "stream"
        }
      ],
      "execution_count": 6
    },
    {
      "cell_type": "code",
      "source": "import statistics as s\n\n# Hardcoded list of elements for testing\nlist_of_elements = [1, 2, 2, 3, 4]  # You can modify this list as needed\n\n# Calculate and print the mean, mode, and median using statistics module\ntry:\n    print(\"Mean:\", s.mean(list_of_elements))  # Mean\n    print(\"Mode:\", s.mode(list_of_elements))  # Mode\n    print(\"Median:\", s.median(list_of_elements))  # Median\nexcept statistics.StatisticsError as e:\n    print(\"Error in calculating statistics:\", e)\n",
      "metadata": {
        "trusted": true,
        "scrolled": true
      },
      "outputs": [
        {
          "name": "stdout",
          "text": "Mean: 2.4\nMode: 2\nMedian: 2\n",
          "output_type": "stream"
        }
      ],
      "execution_count": 8
    },
    {
      "cell_type": "code",
      "source": "tuple1 = (1, 2, 3, 4, 5)\n# Creating an empty tuple\ntuple2 = ()\n# Creating a tuple with a single element\ntuple3 = (10,)  # Note the comma after the single element\ntuple4 = tuple([6, 7, 8, 9, 10])\ntuple5 = (\"apple\", 3.14, True)\n\nprint(\"Tuple 1:\", tuple1)\nprint(\"Tuple 2:\", tuple2)\nprint(\"Tuple 3:\", tuple3)\nprint(\"Tuple 4:\", tuple4)\nprint(\"Tuple 5:\", tuple5)\n",
      "metadata": {
        "trusted": true
      },
      "outputs": [
        {
          "name": "stdout",
          "text": "Tuple 1: (1, 2, 3, 4, 5)\nTuple 2: ()\nTuple 3: (10,)\nTuple 4: (6, 7, 8, 9, 10)\nTuple 5: ('apple', 3.14, True)\n",
          "output_type": "stream"
        }
      ],
      "execution_count": 9
    },
    {
      "cell_type": "code",
      "source": "tuple1=(\"Apple\",True,30)\nprint(\"Tuple : \",tuple1)\n",
      "metadata": {
        "trusted": true
      },
      "outputs": [
        {
          "name": "stdout",
          "text": "Tuple :  ('Apple', True, 30)\n",
          "output_type": "stream"
        }
      ],
      "execution_count": 10
    },
    {
      "cell_type": "code",
      "source": "a=50\ntuple1=(\"Dog\",\"cat\",True,50,20)\nlen_tuple1=len(tuple1)\nfor i in range(0,len_tuple1):\n    if(a==tuple1[i]):\n        print(\"Element exist within the tuple\")\n",
      "metadata": {
        "trusted": true
      },
      "outputs": [
        {
          "name": "stdout",
          "text": "Element exist within the tuple\n",
          "output_type": "stream"
        }
      ],
      "execution_count": 12
    },
    {
      "cell_type": "code",
      "source": "",
      "metadata": {
        "trusted": true
      },
      "outputs": [],
      "execution_count": null
    }
  ]
}