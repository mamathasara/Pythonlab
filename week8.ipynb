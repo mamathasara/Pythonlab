{
  "metadata": {
    "kernelspec": {
      "name": "python",
      "display_name": "Python (Pyodide)",
      "language": "python"
    },
    "language_info": {
      "codemirror_mode": {
        "name": "python",
        "version": 3
      },
      "file_extension": ".py",
      "mimetype": "text/x-python",
      "name": "python",
      "nbconvert_exporter": "python",
      "pygments_lexer": "ipython3",
      "version": "3.8"
    }
  },
  "nbformat_minor": 4,
  "nbformat": 4,
  "cells": [
    {
      "cell_type": "code",
      "source": "file1=open(\"t1.txt\",\"w\",encoding=\"utf-8\")\nfile2=open(\"t2.txt\",\"w\")\nfile1.write(\"hello\")\nfile2.write(\"world!\")\nfile1.close()\nfile2.close()\nfile1=open(\"t1.txt\",\"r\")\ndata1=file1.read()\nfile2=open(\"t2.txt\",\"r\")\ndata2=file2.read()\nfile1.close()\nfile2.close()\nfile3=open(\"t3.txt\",\"w\")\nfile3.write(data1+\" \"+data2)\nfile3.close()\nfile3=open(\"t3.txt\",\"r\")\ndata=file3.read()\nfile3.close()\n",
      "metadata": {
        "trusted": true
      },
      "outputs": [],
      "execution_count": 1
    },
    {
      "cell_type": "code",
      "source": "",
      "metadata": {
        "trusted": true
      },
      "outputs": [],
      "execution_count": null
    }
  ]
}