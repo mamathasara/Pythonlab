{
  "metadata": {
    "kernelspec": {
      "name": "python",
      "display_name": "Python (Pyodide)",
      "language": "python"
    },
    "language_info": {
      "codemirror_mode": {
        "name": "python",
        "version": 3
      },
      "file_extension": ".py",
      "mimetype": "text/x-python",
      "name": "python",
      "nbconvert_exporter": "python",
      "pygments_lexer": "ipython3",
      "version": "3.8"
    }
  },
  "nbformat_minor": 4,
  "nbformat": 4,
  "cells": [
    {
      "cell_type": "code",
      "source": "file1=open(\"t1.txt\",\"w\",encoding=\"utf-8\")\nfile2=open(\"t2.txt\",\"w\")\nfile1.write(\"hello\")\nfile2.write(\"world!\")\nfile1.close()\nfile2.close()\nfile1=open(\"t1.txt\",\"r\")\ndata1=file1.read()\nfile2=open(\"t2.txt\",\"r\")\ndata2=file2.read()\nfile1.close()\nfile2.close()\nfile3=open(\"t3.txt\",\"w\")\nfile3.write(data1+\" \"+data2)\nfile3.close()\nfile3=open(\"t3.txt\",\"r\")\ndata=file3.read()\nfile3.close()\n",
      "metadata": {
        "trusted": true
      },
      "outputs": [],
      "execution_count": 1
    },
    {
      "cell_type": "code",
      "source": "# Open the file and read its contents\nfile = open(\"t3.txt\", \"r\")\ndata = file.read()  # t3.txt contains: hello world!\nfile.close()\n\ndef check_word(data, word):\n    words = data.split(\" \")\n    for i in words:\n        if word == i:\n            print(\"Word found\")\n            break\n    else:\n        print(\"Not found\")\n\n# Prompt user for input\nword = input(\"Enter word to be searched: \")\ncheck_word(data, word)\n",
      "metadata": {
        "trusted": true
      },
      "outputs": [
        {
          "name": "stdout",
          "text": "Not found\n",
          "output_type": "stream"
        }
      ],
      "execution_count": 3
    },
    {
      "cell_type": "code",
      "source": "file1 = open(\"text.txt\", \"r\")\ndata = file1.read()  # hello world\nfile1.close()\n\ndef diaplay():\n    vowel = 0\n    space = 0\n    con = 0\n    lower = 0\n    upper = 0\n    vowels = ['a', 'e', 'i', 'o', 'u', 'A', 'E', 'I', 'O', 'U']\n    words = data.split()\n    print(\"Total words:\", len(words))\n    \n    for letter in data:\n        if letter in vowels:\n            vowel += 1\n        elif letter == \" \":\n            space += 1\n        else:\n            con += 1\n        if letter.islower():\n            lower += 1\n        if letter.isupper():\n            upper += 1\n\n    print(\"Total Vowels:\", vowel)\n    print(\"Total Consonants:\", con)\n    print(\"Total Lowercase letters:\", lower)\n    print(\"Total Uppercase letters:\", upper)\n",
      "metadata": {
        "trusted": true
      },
      "outputs": [],
      "execution_count": null
    },
    {
      "cell_type": "code",
      "source": "",
      "metadata": {
        "trusted": true
      },
      "outputs": [],
      "execution_count": null
    }
  ]
}